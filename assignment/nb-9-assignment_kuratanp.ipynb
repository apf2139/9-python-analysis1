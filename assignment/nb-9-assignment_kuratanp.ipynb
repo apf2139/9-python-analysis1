{
 "cells": [
  {
   "attachments": {},
   "cell_type": "markdown",
   "metadata": {},
   "source": [
    "### Machine Learning assignment:\n",
    "#### Predicting Oncorhynchous species occurance based on states  in the US\n",
    "\n",
    "Oncorhynchus is a genus belonging to family Salmonidae which contains the Pacific salmon and Pacific trout. In this assignment, the `record` library was used to download over 8000 Oncorhynchus occurrence data from [GBIF](https://www.gbif.org/). The state names were used to predict Oncorhynchus species occurrence by applying Neighbors-based classification method."
   ]
  },
  {
   "cell_type": "markdown",
   "metadata": {},
   "source": [
    "__1. Used the records library to obtain a series of occurrence records of *Oncorhynchus* between 1800 and current year in 5 year interval__"
   ]
  },
  {
   "cell_type": "code",
   "execution_count": 1,
   "metadata": {},
   "outputs": [],
   "source": [
    "import records\n",
    "import numpy as np\n",
    "import pandas as pd"
   ]
  },
  {
   "cell_type": "code",
   "execution_count": 2,
   "metadata": {},
   "outputs": [],
   "source": [
    "ep = records.Epochs(\"Oncorhynchus\", 1800, 2018, 5, **{\"country\":\"US\"})"
   ]
  },
  {
   "cell_type": "code",
   "execution_count": 3,
   "metadata": {},
   "outputs": [
    {
     "data": {
      "text/plain": [
       "(8390, 5)"
      ]
     },
     "execution_count": 3,
     "metadata": {},
     "output_type": "execute_result"
    }
   ],
   "source": [
    "# view the shape of the dataframe\n",
    "ep.sdf.shape"
   ]
  },
  {
   "cell_type": "code",
   "execution_count": 4,
   "metadata": {},
   "outputs": [
    {
     "data": {
      "text/html": [
       "<div>\n",
       "<style scoped>\n",
       "    .dataframe tbody tr th:only-of-type {\n",
       "        vertical-align: middle;\n",
       "    }\n",
       "\n",
       "    .dataframe tbody tr th {\n",
       "        vertical-align: top;\n",
       "    }\n",
       "\n",
       "    .dataframe thead th {\n",
       "        text-align: right;\n",
       "    }\n",
       "</style>\n",
       "<table border=\"1\" class=\"dataframe\">\n",
       "  <thead>\n",
       "    <tr style=\"text-align: right;\">\n",
       "      <th></th>\n",
       "      <th>species</th>\n",
       "      <th>year</th>\n",
       "      <th>epoch</th>\n",
       "      <th>country</th>\n",
       "      <th>stateProvince</th>\n",
       "    </tr>\n",
       "  </thead>\n",
       "  <tbody>\n",
       "    <tr>\n",
       "      <th>0</th>\n",
       "      <td>Oncorhynchus clarkii</td>\n",
       "      <td>1868.0</td>\n",
       "      <td>1865</td>\n",
       "      <td>United States</td>\n",
       "      <td>Utah</td>\n",
       "    </tr>\n",
       "    <tr>\n",
       "      <th>1</th>\n",
       "      <td>Oncorhynchus clarkii</td>\n",
       "      <td>1871.0</td>\n",
       "      <td>1870</td>\n",
       "      <td>United States</td>\n",
       "      <td>Montana</td>\n",
       "    </tr>\n",
       "    <tr>\n",
       "      <th>2</th>\n",
       "      <td>Oncorhynchus clarkii</td>\n",
       "      <td>1871.0</td>\n",
       "      <td>1870</td>\n",
       "      <td>United States</td>\n",
       "      <td>Montana</td>\n",
       "    </tr>\n",
       "    <tr>\n",
       "      <th>3</th>\n",
       "      <td>Oncorhynchus clarkii</td>\n",
       "      <td>1871.0</td>\n",
       "      <td>1870</td>\n",
       "      <td>United States</td>\n",
       "      <td>Montana</td>\n",
       "    </tr>\n",
       "    <tr>\n",
       "      <th>4</th>\n",
       "      <td>Oncorhynchus clarkii</td>\n",
       "      <td>1871.0</td>\n",
       "      <td>1870</td>\n",
       "      <td>United States</td>\n",
       "      <td>Montana</td>\n",
       "    </tr>\n",
       "  </tbody>\n",
       "</table>\n",
       "</div>"
      ],
      "text/plain": [
       "                species    year  epoch        country stateProvince\n",
       "0  Oncorhynchus clarkii  1868.0   1865  United States          Utah\n",
       "1  Oncorhynchus clarkii  1871.0   1870  United States       Montana\n",
       "2  Oncorhynchus clarkii  1871.0   1870  United States       Montana\n",
       "3  Oncorhynchus clarkii  1871.0   1870  United States       Montana\n",
       "4  Oncorhynchus clarkii  1871.0   1870  United States       Montana"
      ]
     },
     "execution_count": 4,
     "metadata": {},
     "output_type": "execute_result"
    }
   ],
   "source": [
    "# view the first 10 rows \n",
    "ep.sdf.head()"
   ]
  },
  {
   "cell_type": "code",
   "execution_count": 5,
   "metadata": {},
   "outputs": [
    {
     "data": {
      "text/plain": [
       "array(['Oncorhynchus clarkii', 'Oncorhynchus gorbuscha',\n",
       "       'Ascorhynchus armatus', 'Oncorhynchus nerka', 'Oncorhynchus mykiss',\n",
       "       'Oncorhynchus kisutch', 'Oncorhynchus aguabonita', nan,\n",
       "       'Oncorhynchus tshawytscha', 'Oncorhynchus keta',\n",
       "       'Oncorhynchus apache', 'Ascorhynchus latipes',\n",
       "       'Otiorhynchus rugosostriatus', 'Otiorhynchus sulcatus',\n",
       "       'Hypsiglena torquata', 'Otiorhynchus ovatus',\n",
       "       'Brachyrhinus sulcatus', 'Brachyrhinus rugifrons',\n",
       "       'Brachyrhinus ovatus', 'Lycodes palearis', 'Rhacochilus vacca',\n",
       "       'Cymatogaster aggregata', 'Oncorhynchus gilae',\n",
       "       'Ascorhynchus castellioides', 'Otiorhynchus rugifrons',\n",
       "       'Otiorhynchus meridionalis', 'Ascorhynchus pyrginospinus',\n",
       "       'Ascorhynchus japonicus', 'Thymallus arcticus',\n",
       "       'Ascorhynchus horologum', 'Ascorhynchus athernus',\n",
       "       'Ascorhynchus ovicoxa', 'Rocinela belliceps',\n",
       "       'Ascorhynchus crenatus', 'Gonorynchus moseleyi',\n",
       "       'Hexagrammos decagrammus', 'Notorynchus cepedianus',\n",
       "       'Ascorhynchus castelli', 'Otiorhynchus cribricollis',\n",
       "       'Lepeophtheirus salmonis', 'Entosphenus tridentatus',\n",
       "       'Ictalurus punctatus', 'Platygobio gracilis',\n",
       "       'Cyprinella lutrensis', 'Salmo trutta', 'Catostomus commersonii',\n",
       "       'Rhinichthys cataractae', 'Myxobolus kisutchi',\n",
       "       'Otiorhynchus singularis', 'Apophallus microsoma',\n",
       "       'Otiorhynchus rugostriatus', 'Otiorhynchus raucus'], dtype=object)"
      ]
     },
     "execution_count": 5,
     "metadata": {},
     "output_type": "execute_result"
    }
   ],
   "source": [
    "# view all of the unique species \n",
    "ep.sdf.species.unique()"
   ]
  },
  {
   "cell_type": "code",
   "execution_count": 6,
   "metadata": {},
   "outputs": [],
   "source": [
    "#drop NaN in all of the columns\n",
    "rainbow = ep.sdf.dropna(subset = list(ep.sdf.columns))"
   ]
  },
  {
   "cell_type": "code",
   "execution_count": 7,
   "metadata": {},
   "outputs": [
    {
     "data": {
      "text/plain": [
       "(7918, 5)"
      ]
     },
     "execution_count": 7,
     "metadata": {},
     "output_type": "execute_result"
    }
   ],
   "source": [
    "rainbow.shape"
   ]
  },
  {
   "cell_type": "markdown",
   "metadata": {},
   "source": [
    "__2. Apply a machine learning method from the scikit-learn library to the data in the dataframe of my records.Epochs object__"
   ]
  },
  {
   "cell_type": "markdown",
   "metadata": {},
   "source": [
    "__i. Select an column of labels (y) and one column of features (X), and format my dataset into a training and test data set.__"
   ]
  },
  {
   "cell_type": "code",
   "execution_count": 9,
   "metadata": {},
   "outputs": [],
   "source": [
    "y_rainbow = rainbow['species']"
   ]
  },
  {
   "cell_type": "code",
   "execution_count": 10,
   "metadata": {},
   "outputs": [],
   "source": [
    "X_rainbow = rainbow['stateProvince']"
   ]
  },
  {
   "cell_type": "code",
   "execution_count": 11,
   "metadata": {},
   "outputs": [],
   "source": [
    "# Convert the categorical feature 'stateProvince' into integers\n",
    "from sklearn.preprocessing import LabelEncoder\n",
    "from sklearn.preprocessing import OneHotEncoder\n",
    "LabelEnc = LabelEncoder()\n",
    "X_int = LabelEnc.fit_transform(X_rainbow)\n",
    "OnehotEnc = OneHotEncoder(sparse = False)\n",
    "X_int = X_int.reshape(len(X_int ), 1)\n",
    "newX_rainbow = OnehotEnc.fit_transform(X_int)"
   ]
  },
  {
   "cell_type": "code",
   "execution_count": 12,
   "metadata": {},
   "outputs": [
    {
     "name": "stderr",
     "output_type": "stream",
     "text": [
      "/Users/teachinghouse/miniconda/lib/python3.6/site-packages/sklearn/cross_validation.py:41: DeprecationWarning: This module was deprecated in version 0.18 in favor of the model_selection module into which all the refactored classes and functions are moved. Also note that the interface of the new CV iterators are different from that of this module. This module will be removed in 0.20.\n",
      "  \"This module will be removed in 0.20.\", DeprecationWarning)\n"
     ]
    }
   ],
   "source": [
    "from sklearn.cross_validation import train_test_split\n",
    "Xtrain, Xtest, ytrain, ytest = train_test_split(newX_rainbow, y_rainbow, random_state=1)"
   ]
  },
  {
   "cell_type": "markdown",
   "metadata": {},
   "source": [
    "__ii. Select a machine learning class from scikit-learn__"
   ]
  },
  {
   "cell_type": "code",
   "execution_count": 13,
   "metadata": {},
   "outputs": [],
   "source": [
    "from sklearn.neighbors import KNeighborsClassifier"
   ]
  },
  {
   "cell_type": "markdown",
   "metadata": {},
   "source": [
    "__iii. Create an instance of that class__"
   ]
  },
  {
   "cell_type": "code",
   "execution_count": 14,
   "metadata": {},
   "outputs": [],
   "source": [
    "knn = KNeighborsClassifier(n_neighbors=1)"
   ]
  },
  {
   "cell_type": "markdown",
   "metadata": {},
   "source": [
    "__iv. Train the model on your training data set__"
   ]
  },
  {
   "cell_type": "code",
   "execution_count": 15,
   "metadata": {},
   "outputs": [
    {
     "data": {
      "text/plain": [
       "KNeighborsClassifier(algorithm='auto', leaf_size=30, metric='minkowski',\n",
       "           metric_params=None, n_jobs=1, n_neighbors=1, p=2,\n",
       "           weights='uniform')"
      ]
     },
     "execution_count": 15,
     "metadata": {},
     "output_type": "execute_result"
    }
   ],
   "source": [
    "knn.fit(Xtrain, ytrain)"
   ]
  },
  {
   "cell_type": "markdown",
   "metadata": {},
   "source": [
    "__v. Get predictions by applying your model to the test data set__"
   ]
  },
  {
   "cell_type": "code",
   "execution_count": 16,
   "metadata": {},
   "outputs": [],
   "source": [
    "yfit = knn.predict(Xtest)"
   ]
  },
  {
   "cell_type": "markdown",
   "metadata": {},
   "source": [
    "__vi. Measure the accuracy of your model by comparing the predicted values to the actual labels in your test data.__"
   ]
  },
  {
   "cell_type": "code",
   "execution_count": 17,
   "metadata": {},
   "outputs": [
    {
     "data": {
      "text/plain": [
       "0.42878787878787877"
      ]
     },
     "execution_count": 17,
     "metadata": {},
     "output_type": "execute_result"
    }
   ],
   "source": [
    "np.mean(yfit == ytest)"
   ]
  },
  {
   "cell_type": "markdown",
   "metadata": {},
   "source": [
    "__vii. Summary__"
   ]
  },
  {
   "attachments": {},
   "cell_type": "markdown",
   "metadata": {},
   "source": [
    "I tried to use locality features (e.g.stateProvince) to predict name of species of Oncorhynchus. The accuracy of my model is based on the cross validation between the predicted values to the actual labels in my test data was 43%. The use of keyword 'Oncorhynchous' search ended up retrieving other species that are not genus Oncorhynchous, which may attribute to the fact that Salmonidae taxonomic classification is inheritably complex. Also the state names were not a good predictor for species occurrence since some are widely distributed in North America. Nonetheless other methods such as the k-means and Gaussian Mixture Models could have applied to this dataset."
   ]
  },
  {
   "cell_type": "markdown",
   "metadata": {},
   "source": [
    "###### Machine leaning map\n",
    "http://scikit-learn.org/stable/tutorial/machine_learning_map/index.html"
   ]
  }
 ],
 "metadata": {
  "kernelspec": {
   "display_name": "Python 3",
   "language": "python",
   "name": "python3"
  },
  "language_info": {
   "codemirror_mode": {
    "name": "ipython",
    "version": 3
   },
   "file_extension": ".py",
   "mimetype": "text/x-python",
   "name": "python",
   "nbconvert_exporter": "python",
   "pygments_lexer": "ipython3",
   "version": "3.6.4"
  }
 },
 "nbformat": 4,
 "nbformat_minor": 2
}
